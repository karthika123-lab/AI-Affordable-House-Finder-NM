{
  "metadata": {
    "kernelspec": {
      "name": "python",
      "display_name": "Python (Pyodide)",
      "language": "python"
    },
    "language_info": {
      "codemirror_mode": {
        "name": "python",
        "version": 3
      },
      "file_extension": ".py",
      "mimetype": "text/x-python",
      "name": "python",
      "nbconvert_exporter": "python",
      "pygments_lexer": "ipython3",
      "version": "3.8"
    }
  },
  "nbformat_minor": 5,
  "nbformat": 4,
  "cells": [
    {
      "id": "34147f99-6f2a-4c97-abb5-3c05952a3198",
      "cell_type": "code",
      "source": "import pandas as pd\n\n# Sample dataset: You can replace this with real CSV data\ndata = {\n    'HouseID': [1, 2, 3, 4, 5],\n    'Location': ['City Center', 'Suburbs', 'Suburbs', 'Village', 'City Center'],\n    'Price': [250000, 150000, 180000, 95000, 300000],\n    'Bedrooms': [2, 3, 3, 2, 4],\n    'Bathrooms': [1, 2, 2, 1, 3],\n    'SqFt': [850, 1200, 1100, 900, 1400]\n}\n\ndf = pd.DataFrame(data)\n\n# Set user's budget\nuser_budget = 200000\n\n# Simple AI-like logic to score houses based on affordability\ndef score_house(row, budget):\n    # The closer the price to the budget (without exceeding), the higher the score\n    if row['Price'] > budget:\n        return 0\n    return (budget - row['Price']) / budget + row['Bedrooms'] * 0.1 + row['Bathrooms'] * 0.05\n\ndf['Score'] = df.apply(score_house, axis=1, budget=user_budget)\n\n# Filter affordable houses\naffordable_houses = df[df['Price'] <= user_budget].sort_values(by='Score', ascending=False)\n\n# Show result\nprint(\"Affordable Houses within Budget:\\n\")\nprint(affordable_houses[['HouseID', 'Location', 'Price', 'Bedrooms', 'Bathrooms', 'Score']])\n",
      "metadata": {
        "trusted": true
      },
      "outputs": [
        {
          "name": "stdout",
          "output_type": "stream",
          "text": "Affordable Houses within Budget:\n\n   HouseID Location   Price  Bedrooms  Bathrooms  Score\n3        4  Village   95000         2          1  0.775\n1        2  Suburbs  150000         3          2  0.650\n2        3  Suburbs  180000         3          2  0.500\n"
        }
      ],
      "execution_count": 1
    },
    {
      "id": "3592a0ea-4148-4f95-bae1-dce015ea0e65",
      "cell_type": "code",
      "source": "",
      "metadata": {
        "trusted": true
      },
      "outputs": [],
      "execution_count": null
    }
  ]
}